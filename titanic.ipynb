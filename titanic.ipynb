{
 "cells": [
  {
   "cell_type": "code",
   "execution_count": 1,
   "id": "initial_id",
   "metadata": {
    "collapsed": true,
    "ExecuteTime": {
     "end_time": "2024-02-16T12:28:28.180683600Z",
     "start_time": "2024-02-16T12:28:26.302681200Z"
    }
   },
   "outputs": [],
   "source": [
    "import pandas as pd"
   ]
  },
  {
   "cell_type": "code",
   "execution_count": 2,
   "outputs": [],
   "source": [
    "train_data = pd.read_csv('train.csv')\n",
    "test_data = pd.read_csv('test.csv')\n",
    "titanic_data = pd.concat([train_data, test_data], ignore_index=True)"
   ],
   "metadata": {
    "collapsed": false,
    "ExecuteTime": {
     "end_time": "2024-02-16T12:28:30.223679200Z",
     "start_time": "2024-02-16T12:28:30.166680100Z"
    }
   },
   "id": "3c40b55569968727"
  },
  {
   "cell_type": "code",
   "execution_count": 3,
   "outputs": [
    {
     "name": "stdout",
     "output_type": "stream",
     "text": [
      "Первые 10 записей:\n",
      "   PassengerId  Survived  Pclass  \\\n",
      "0            1       0.0       3   \n",
      "1            2       1.0       1   \n",
      "2            3       1.0       3   \n",
      "3            4       1.0       1   \n",
      "4            5       0.0       3   \n",
      "5            6       0.0       3   \n",
      "6            7       0.0       1   \n",
      "7            8       0.0       3   \n",
      "8            9       1.0       3   \n",
      "9           10       1.0       2   \n",
      "\n",
      "                                                Name     Sex   Age  SibSp  \\\n",
      "0                            Braund, Mr. Owen Harris    male  22.0      1   \n",
      "1  Cumings, Mrs. John Bradley (Florence Briggs Th...  female  38.0      1   \n",
      "2                             Heikkinen, Miss. Laina  female  26.0      0   \n",
      "3       Futrelle, Mrs. Jacques Heath (Lily May Peel)  female  35.0      1   \n",
      "4                           Allen, Mr. William Henry    male  35.0      0   \n",
      "5                                   Moran, Mr. James    male   NaN      0   \n",
      "6                            McCarthy, Mr. Timothy J    male  54.0      0   \n",
      "7                     Palsson, Master. Gosta Leonard    male   2.0      3   \n",
      "8  Johnson, Mrs. Oscar W (Elisabeth Vilhelmina Berg)  female  27.0      0   \n",
      "9                Nasser, Mrs. Nicholas (Adele Achem)  female  14.0      1   \n",
      "\n",
      "   Parch            Ticket     Fare Cabin Embarked  \n",
      "0      0         A/5 21171   7.2500   NaN        S  \n",
      "1      0          PC 17599  71.2833   C85        C  \n",
      "2      0  STON/O2. 3101282   7.9250   NaN        S  \n",
      "3      0            113803  53.1000  C123        S  \n",
      "4      0            373450   8.0500   NaN        S  \n",
      "5      0            330877   8.4583   NaN        Q  \n",
      "6      0             17463  51.8625   E46        S  \n",
      "7      1            349909  21.0750   NaN        S  \n",
      "8      2            347742  11.1333   NaN        S  \n",
      "9      0            237736  30.0708   NaN        C  \n"
     ]
    }
   ],
   "source": [
    "print(\"Первые 10 записей:\")\n",
    "print(titanic_data.head(10))"
   ],
   "metadata": {
    "collapsed": false,
    "ExecuteTime": {
     "end_time": "2024-02-16T12:28:32.114680400Z",
     "start_time": "2024-02-16T12:28:32.016680800Z"
    }
   },
   "id": "188df218be9a6d8"
  },
  {
   "cell_type": "code",
   "execution_count": 4,
   "outputs": [
    {
     "name": "stdout",
     "output_type": "stream",
     "text": [
      "Размерность данных: (1309, 12)\n"
     ]
    }
   ],
   "source": [
    "print(\"Размерность данных:\", titanic_data.shape)"
   ],
   "metadata": {
    "collapsed": false,
    "ExecuteTime": {
     "end_time": "2024-02-16T12:28:33.940720Z",
     "start_time": "2024-02-16T12:28:33.927690800Z"
    }
   },
   "id": "22daf36be02dfb6c"
  },
  {
   "cell_type": "code",
   "execution_count": 5,
   "outputs": [
    {
     "name": "stdout",
     "output_type": "stream",
     "text": [
      "Количество пустых значений в каждом столбце:\n",
      "PassengerId: 0\n",
      "Survived: 418\n",
      "Pclass: 0\n",
      "Name: 0\n",
      "Sex: 0\n",
      "Age: 263\n",
      "SibSp: 0\n",
      "Parch: 0\n",
      "Ticket: 0\n",
      "Fare: 1\n",
      "Cabin: 1014\n",
      "Embarked: 2\n"
     ]
    }
   ],
   "source": [
    "print(\"Количество пустых значений в каждом столбце:\")\n",
    "for column in titanic_data.columns:\n",
    "    null_count = titanic_data[column].isnull().sum()\n",
    "    print(f\"{column}: {null_count}\")"
   ],
   "metadata": {
    "collapsed": false,
    "ExecuteTime": {
     "end_time": "2024-02-16T12:28:35.249726200Z",
     "start_time": "2024-02-16T12:28:35.166732100Z"
    }
   },
   "id": "45e660052f8c8db6"
  },
  {
   "cell_type": "code",
   "execution_count": 6,
   "outputs": [
    {
     "name": "stdout",
     "output_type": "stream",
     "text": [
      "\n",
      "Типы данных:\n",
      "PassengerId      int64\n",
      "Survived       float64\n",
      "Pclass           int64\n",
      "Name            object\n",
      "Sex             object\n",
      "Age            float64\n",
      "SibSp            int64\n",
      "Parch            int64\n",
      "Ticket          object\n",
      "Fare           float64\n",
      "Cabin           object\n",
      "Embarked        object\n",
      "dtype: object\n"
     ]
    }
   ],
   "source": [
    "print(\"\\nТипы данных:\")\n",
    "print(titanic_data.dtypes)"
   ],
   "metadata": {
    "collapsed": false,
    "ExecuteTime": {
     "end_time": "2024-02-16T12:28:38.777726500Z",
     "start_time": "2024-02-16T12:28:38.757726300Z"
    }
   },
   "id": "cd7827bd3e8fd34b"
  },
  {
   "cell_type": "code",
   "execution_count": 7,
   "outputs": [],
   "source": [
    "titanic_data = titanic_data.drop(\n",
    "    columns=[\"PassengerId\", \"Name\", \"SibSp\", \"Parch\", \"Ticket\", \"Fare\", \"Cabin\", \"Embarked\"], axis=1)"
   ],
   "metadata": {
    "collapsed": false,
    "ExecuteTime": {
     "end_time": "2024-02-16T12:28:40.481727Z",
     "start_time": "2024-02-16T12:28:40.459727700Z"
    }
   },
   "id": "d97e09681f289fdd"
  },
  {
   "cell_type": "code",
   "execution_count": 8,
   "outputs": [],
   "source": [
    "median_age = titanic_data['Age'].median()\n",
    "titanic_data['Age'].fillna(median_age, inplace=True)"
   ],
   "metadata": {
    "collapsed": false,
    "ExecuteTime": {
     "end_time": "2024-02-16T12:28:41.918731500Z",
     "start_time": "2024-02-16T12:28:41.905730200Z"
    }
   },
   "id": "22b85dc9c85c88f3"
  },
  {
   "cell_type": "code",
   "execution_count": 9,
   "outputs": [],
   "source": [
    "changed_data = pd.get_dummies(titanic_data, drop_first=True)"
   ],
   "metadata": {
    "collapsed": false,
    "ExecuteTime": {
     "end_time": "2024-02-16T12:28:42.774739900Z",
     "start_time": "2024-02-16T12:28:42.754733200Z"
    }
   },
   "id": "683a13a3363ba95c"
  },
  {
   "cell_type": "code",
   "execution_count": 11,
   "outputs": [
    {
     "name": "stdout",
     "output_type": "stream",
     "text": [
      "Обновленные данные:\n",
      "   Survived  Pclass   Age  Sex_male\n",
      "0       0.0       3  22.0         1\n",
      "1       1.0       1  38.0         0\n",
      "2       1.0       3  26.0         0\n",
      "3       1.0       1  35.0         0\n",
      "4       0.0       3  35.0         1\n",
      "5       0.0       3  28.0         1\n",
      "6       0.0       1  54.0         1\n",
      "7       0.0       3   2.0         1\n",
      "8       1.0       3  27.0         0\n",
      "9       1.0       2  14.0         0\n"
     ]
    }
   ],
   "source": [
    "print(\"Обновленные данные:\")\n",
    "print(changed_data.head(10))"
   ],
   "metadata": {
    "collapsed": false,
    "ExecuteTime": {
     "end_time": "2024-02-16T12:28:52.161744Z",
     "start_time": "2024-02-16T12:28:52.135730Z"
    }
   },
   "id": "80a57adadd17272f"
  },
  {
   "cell_type": "code",
   "execution_count": null,
   "outputs": [],
   "source": [],
   "metadata": {
    "collapsed": false
   },
   "id": "2fb5d62ebf9599"
  }
 ],
 "metadata": {
  "kernelspec": {
   "display_name": "Python 3",
   "language": "python",
   "name": "python3"
  },
  "language_info": {
   "codemirror_mode": {
    "name": "ipython",
    "version": 2
   },
   "file_extension": ".py",
   "mimetype": "text/x-python",
   "name": "python",
   "nbconvert_exporter": "python",
   "pygments_lexer": "ipython2",
   "version": "2.7.6"
  }
 },
 "nbformat": 4,
 "nbformat_minor": 5
}
